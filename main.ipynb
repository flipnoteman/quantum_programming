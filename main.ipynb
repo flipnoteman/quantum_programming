{
 "cells": [
  {
   "cell_type": "code",
   "execution_count": 3,
   "metadata": {},
   "outputs": [],
   "source": [
    "import numpy as np"
   ]
  },
  {
   "cell_type": "markdown",
   "metadata": {},
   "source": [
    "### 1.1 Complex Numbers"
   ]
  },
  {
   "cell_type": "code",
   "execution_count": 6,
   "metadata": {},
   "outputs": [],
   "source": [
    "# a complex number is defined as z = x + iy where x is the real portion of z and iy is the imaginary proportion of x\n",
    "# The imaginary number is defined as x^2 + 1 = 0 or sqrt(-1)\n",
    "x = 1.0 + 0.5j # j is a built in imaginary number marker for engineers"
   ]
  },
  {
   "cell_type": "code",
   "execution_count": 9,
   "metadata": {},
   "outputs": [
    {
     "name": "stdout",
     "output_type": "stream",
     "text": [
      "(1-0.5j)\n",
      "(1-0.5j)\n"
     ]
    }
   ],
   "source": [
    "# The conjugate of a complex number is equal to the complex number after negating the imaginary term\n",
    "x_conj = x.conjugate() # built in conjugate function\n",
    "\n",
    "# numpy equivalant \n",
    "x_conj_n = np.conj(x)\n",
    "\n",
    "print(x_conj)\n",
    "print(x_conj_n)"
   ]
  },
  {
   "cell_type": "markdown",
   "metadata": {},
   "source": [
    "### 1.2 Dirac Notation, Bras, and Kets\n",
    "\n",
    "- A Ket is a columnar vector of complex numbers\n",
    "    - denoted like this => |x⟩\n",
    "- A Bra (or dual vector) is a row vector formed from the hermitian conjugation (adjoint) of a ket\n",
    "    - Denoted by a dagger † => (|x⟩)† = ⟨x|\n",
    "    - The hermitian conjugate, or adjoint, is the transpose of the Ket with each element conjugated"
   ]
  },
  {
   "cell_type": "markdown",
   "metadata": {},
   "source": [
    "#### 1.2.1 Inner Product\n",
    "- The matrix product of a bra and a ket.\n",
    "    - Given |x⟩ and |y⟩, the inner product would be denoted as ⟨x|y⟩ = x<sub>0</sub>\\*, y<sub>0</sub>, ... , x<sub>n-1</sub>\\*, y<sub>n-1</sub>\n",
    "    - This is also called bra(c)ket notation\n",
    "- General Rules:\n",
    "    - ⟨x|y⟩\\* = ⟨y|x⟩\n",
    "    - ⟨x|y⟩ = 0 =>  x,y orthogonal (just meaning that htey are perpendicular to eachother)\n",
    "    - ||x⟩| = ⟨x|x⟩ = 1 => |x⟩ normalized  (the norm of a vector is the scalar product of the vector with its dual vector)\n",
    "\n",
    "- State vectors in quantum computing represent probability distributions that must total 1.0 by definition."
   ]
  },
  {
   "cell_type": "code",
   "execution_count": null,
   "metadata": {},
   "outputs": [],
   "source": [
    "\n",
    "  "
   ]
  }
 ],
 "metadata": {
  "kernelspec": {
   "display_name": "Python 3",
   "language": "python",
   "name": "python3"
  },
  "language_info": {
   "codemirror_mode": {
    "name": "ipython",
    "version": 3
   },
   "file_extension": ".py",
   "mimetype": "text/x-python",
   "name": "python",
   "nbconvert_exporter": "python",
   "pygments_lexer": "ipython3",
   "version": "3.10.8"
  }
 },
 "nbformat": 4,
 "nbformat_minor": 2
}
