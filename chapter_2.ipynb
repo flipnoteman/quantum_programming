{
 "cells": [
  {
   "cell_type": "markdown",
   "metadata": {},
   "source": [
    "## Chapter 2, Basic class building"
   ]
  },
  {
   "cell_type": "code",
   "execution_count": 10,
   "metadata": {},
   "outputs": [],
   "source": [
    "import numpy as np\n",
    "\n",
    "\n",
    "tensor_width = 64\n",
    "\n",
    "def tensor_type():\n",
    "    if tensor_width == 64:\n",
    "        return np.complex64\n",
    "    return np.complex128\n",
    "\n",
    "\n",
    "class Tensor(np.ndarray):\n",
    "    \"\"\" Tensor is a numpy array representing a state or operator \"\"\"\n",
    "    def __new__(cls, input_arr) -> Tensor:\n",
    "        return np.asarray(input_arr, dtype=tensor_type()).view(cls)\n",
    "    \n",
    "    def __array_finalize__(self, obj) -> None:\n",
    "        if obj is None: return\n",
    "        \n",
    "    def kron(self, arg: Tensor) -> Tensor:\n",
    "         \"\"\"Use the built in Kron function of NP to delegate for an instance\n",
    "         Kron refers to Kronecker product, which is synonymous with tensor product, a product of two tensors.\n",
    "         In tensor product, the first element of the first term is multiplied by the whole of the second term, and so on \"\"\"\n",
    "         return self.__class__(np.kron(self, arg))\n",
    "    \n",
    "    def __mul__(selfm, arg: Tensor) -> Tensor:\n",
    "        # Override the multiplication operator \n",
    "        return self.kron(arg)\n",
    "    \n",
    "    def kpow(self, n: int) -> Tensor:\n",
    "        \"\"\" \"Kapow\" -- Returns the tensor product of this tensor n times, basically a exponent function but the operation is instead a tensor product\n",
    "         Kronicker Power\n",
    "         Often used to make a bigger tensor from a single tensor \"\"\"\n",
    "        \n",
    "        if n == 0:\n",
    "            return 1.0 # deal with base case, of course something raised to the zeroeth power is 1.0\n",
    "        t = self\n",
    "        for _ in range (n-1):\n",
    "            t = np.kron(t, self)\n",
    "        return self.__class__(t)  # return tensor type this way\n",
    "    \n",
    "    def is_close(self, arg) -> bool:\n",
    "        \"\"\"Returns whether or not the 1d or 2d tensor is numerically close to arg\"\"\"\n",
    "        \n",
    "        return np.allclose(self, arg, atol=1e-6)\n",
    "    \n",
    "    def is_hermitian(self) -> bool:\n",
    "        \"\"\"Checks if the tensor is hermitian, which implies that it is a square matrix that equals its transposed complex conjugate.\n",
    "        This is denotated mathematically as ```U† = U```\"\"\"\n",
    "        \n",
    "        if len(self.shape) != 2:\n",
    "            return False\n",
    "        if self.shape[0] != self.shape[1]:\n",
    "            return False\n",
    "        return self.isclose(np.conj(self.transpose()))\n",
    "    \n",
    "    def is_unitary(self) -> bool:\n",
    "        \"\"\"Checks if the Tensor is Unitary, i.e. the tensor's complex conjugate transpose is equal to its inverse, where A*A† = I\"\"\"\n",
    "        \n",
    "        return Tensor(np.conj(self.transpose()) @ self).is_close(Tensor(np.eye(self.shape[0])))\n",
    "    \n",
    "    def is_permutation(self) -> bool:\n",
    "        \"\"\"Checks if the Tensor is a permutation matrix, which is when each row or column has exactly one 1 and nothing else. Placement doesn't matter past that\"\"\"\n",
    "        x = self\n",
    "        return (x.ndim == 2 and x.shape[0] == x.shape[1] and (x.sum(axis=0) == 1).all() and (x.sum(axis=1) == 1).all() ((x==1) or (x==0)).all())\n",
    "    "
   ]
  },
  {
   "cell_type": "code",
   "execution_count": null,
   "metadata": {},
   "outputs": [],
   "source": []
  }
 ],
 "metadata": {
  "kernelspec": {
   "display_name": "Python 3",
   "language": "python",
   "name": "python3"
  },
  "language_info": {
   "codemirror_mode": {
    "name": "ipython",
    "version": 3
   },
   "file_extension": ".py",
   "mimetype": "text/x-python",
   "name": "python",
   "nbconvert_exporter": "python",
   "pygments_lexer": "ipython3",
   "version": "3.10.8"
  }
 },
 "nbformat": 4,
 "nbformat_minor": 2
}
