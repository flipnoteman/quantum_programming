{
 "cells": [
  {
   "cell_type": "code",
   "execution_count": 1,
   "metadata": {},
   "outputs": [],
   "source": [
    "import numpy as np"
   ]
  },
  {
   "cell_type": "markdown",
   "metadata": {},
   "source": [
    "### 1.1 Complex Numbers"
   ]
  },
  {
   "cell_type": "code",
   "execution_count": 6,
   "metadata": {},
   "outputs": [],
   "source": [
    "# a complex number is defined as z = x + iy where x is the real portion of z and iy is the imaginary proportion of z\n",
    "# The imaginary number is defined as x^2 + 1 = 0 or sqrt(-1)\n",
    "x = 1.0 + 0.5j # j is a built in imaginary number marker for engineers"
   ]
  },
  {
   "cell_type": "code",
   "execution_count": 9,
   "metadata": {},
   "outputs": [
    {
     "name": "stdout",
     "output_type": "stream",
     "text": [
      "(1-0.5j)\n",
      "(1-0.5j)\n"
     ]
    }
   ],
   "source": [
    "# The conjugate of a complex number is equal to the complex number after negating the imaginary term\n",
    "x_conj = x.conjugate() # built in conjugate function\n",
    "\n",
    "# numpy equivalant \n",
    "x_conj_n = np.conj(x)\n",
    "\n",
    "print(x_conj)\n",
    "print(x_conj_n)"
   ]
  },
  {
   "cell_type": "markdown",
   "metadata": {},
   "source": [
    "### 1.2 Dirac Notation, Bras, and Kets\n",
    "\n",
    "- A Ket is a columnar vector of complex numbers\n",
    "    - denoted like this => |x⟩\n",
    "- A Bra (or dual vector) is a row vector formed from the hermitian conjugation (adjoint) of a ket\n",
    "    - Denoted by a dagger † => (|x⟩)† = ⟨x|\n",
    "    - The hermitian conjugate, or adjoint, is the transpose of the Ket with each element conjugated"
   ]
  },
  {
   "cell_type": "markdown",
   "metadata": {},
   "source": [
    "#### 1.2.1 Inner Product\n",
    "- The matrix product of a bra and a ket.\n",
    "    - Given |x⟩ and |y⟩, the inner product would be denoted as ⟨x|y⟩ = x<sub>0</sub>\\*, y<sub>0</sub>, ... , x<sub>n-1</sub>\\*, y<sub>n-1</sub>\n",
    "    - This is also called bra(c)ket notation\n",
    "- General Rules:\n",
    "    - ⟨x|y⟩\\* = ⟨y|x⟩\n",
    "    - ⟨x|y⟩ = 0 =>  x,y orthogonal (just meaning that they are perpendicular to eachother)\n",
    "    - ||x⟩| = ⟨x|x⟩ = 1 => |x⟩ normalized  (the norm of a vector is the scalar product of the vector with its dual vector)\n",
    "\n",
    "- State vectors in quantum computing represent probability distributions that must total 1.0 by definition."
   ]
  },
  {
   "cell_type": "markdown",
   "metadata": {},
   "source": [
    "#### 1.2.2 Outer Product\n",
    "- |x⟩⟨y| = (if x is a 1x3 matrix and y is a 3x1 matrix) a matrix of size 3x3"
   ]
  },
  {
   "cell_type": "markdown",
   "metadata": {},
   "source": [
    "#### 1.3 Tensor Product\n",
    "- |x⟩ ⊗ |y⟩ = |x⟩|y⟩ = |x, y⟩ = |xy⟩\n",
    "- With tensor multiplication, the result is the first element multiplied by the whole of the second constituent. Therfor, with a matrix of size n x m and matrix of size k x l, their tensor product will be of size nk x ml\n",
    "- The tensor product of 2 kets is a ket\n",
    "- For multiplication of scalars α and β with a tensor product:\n",
    "    - α(x ⊗ y) = (αx) ⊗ y =  x ⊗ (αy)\n",
    "    - (α + β)(x ⊗ y) = αx ⊗ y + βx ⊗ y\n",
    "    - [\\Important] (A ⊗ B)(a ⊗ b) = (A ⊗ a)(B ⊗ b)\n",
    "    - Given two composite kets: |Ψ<sub>1</sub>⟩ = |Φ<sub>1</sub>⟩ ⊗ |χ<sub>1</sub>⟩ and |Ψ<sub>2</sub>⟩ = |Φ<sub>2</sub>⟩ ⊗ |χ<sub>2</sub>⟩\n",
    "        - The inner product can be calculated as:\n",
    "            - ⟨Ψ<sub>1</sub>|Ψ<sub>2</sub>⟩ = ⟨Φ<sub>1</sub>|Φ<sub>2</sub>⟩⟨χ<sub>1</sub>|χ<sub>2</sub>⟩"
   ]
  },
  {
   "cell_type": "markdown",
   "metadata": {},
   "source": [
    "#### 1.4 Unitary and Hermitian Matrices\n",
    "-  A square matrix (A) is Hermitian if it's equal to it's transposed complex conjugate A†\n",
    "    - That means the diagonal numbers must be real numbers and the elements along the perpendicular diagonal are complex conjugates of eachother.\n",
    "- A square matrix (A) is Unitary if its conjugate transpose if equal to its inverse\n",
    "    - Unitary matrices are norm preserving, meaning that if you were to multiply a unitary matrix by a vector that resultant vector would have the same norm as the original vector, it acts as a scalar\n",
    "    - A†A = I."
   ]
  },
  {
   "cell_type": "markdown",
   "metadata": {},
   "source": [
    "#### 1.5 Hermitian Adjoint of Expressions\n",
    "- Adjoint of matrix scaled by a complex factor\n",
    "    - (αA)† = α\\*A†\n",
    "- Adjoint of matrix-matrix product (the order reversal is important)\n",
    "    - (AB)† = B†A†\n",
    "- Adjoint of products of matrices and vectors\n",
    "    - (A|Ψ⟩)† = ⟨Ψ|A†\n",
    "- Adjoint of sum \n",
    "    - (A + B)† = A† + B† \n",
    "- Adjoint of Outer product\n",
    "    - (|x⟩⟨y|)† = |y⟩⟨x|"
   ]
  },
  {
   "cell_type": "markdown",
   "metadata": {},
   "source": [
    "#### 1.6 Eigenvalues and Eigenvectors\n",
    "- There is a special case of matrix-vector multiplication where this property holds: A is a square matrix, |Ψ⟩ is a ket, and λ is a simple (complex) scalar.\n",
    "    - A|Ψ⟩ = λ|Ψ⟩ \n",
    "- Applying A to the special vector only scales the vector with a complex number, it does not change it's orientation. λ is an eigenvalue of A. The vectors of which this equation is true (because there can be multiple eigenvalues for A) is called an eigenvector. In quantum mechanics, it is called eigenstates as well. eigenvalue can be 0, but an eigenvector cannot be a null vector.\n",
    "- "
   ]
  },
  {
   "cell_type": "markdown",
   "metadata": {},
   "source": [
    "#### 1.7 Trace of a Matrix\n",
    "- The trace of an n x n matrix A is defined as a the sum of its diagonal elements \n",
    "- c is a scalar, A is a square matrix\n",
    "    - tr(A + B) = tr(A) + tr(B)\n",
    "    - tr(cA) = ctr(A)\n",
    "    - tr(AB) = tr(BA)\n",
    "    - tr(A ⊗ B) = tr(A)tr(B)\n",
    "- The trace of a hermitian matrix is real because it's diagonal values are real\n",
    "- The trace of a square matrix A is the sum of it's eigenvalues.\n",
    "- The trace of the outer product of two kets of the same form is the same as their inner product\n",
    "    - This makes sense, because the summation of the diagonal of the resultant matrix from the outer product is the same as the inner product of the two kets "
   ]
  }
 ],
 "metadata": {
  "kernelspec": {
   "display_name": "Python 3",
   "language": "python",
   "name": "python3"
  },
  "language_info": {
   "codemirror_mode": {
    "name": "ipython",
    "version": 3
   },
   "file_extension": ".py",
   "mimetype": "text/x-python",
   "name": "python",
   "nbconvert_exporter": "python",
   "pygments_lexer": "ipython3",
   "version": "3.10.13"
  }
 },
 "nbformat": 4,
 "nbformat_minor": 2
}
